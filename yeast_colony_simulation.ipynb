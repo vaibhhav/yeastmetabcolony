{
 "cells": [
  {
   "cell_type": "code",
   "execution_count": 1,
   "metadata": {
    "scrolled": true
   },
   "outputs": [
    {
     "data": {
      "text/plain": [
       "'\\nYeast colony simulation combining cellular automata and numerical diffusion scheme. \\n'"
      ]
     },
     "execution_count": 1,
     "metadata": {},
     "output_type": "execute_result"
    }
   ],
   "source": [
    "'''\n",
    "Yeast colony simulation combining cellular automata and numerical diffusion scheme. \n",
    "'''"
   ]
  },
  {
   "cell_type": "code",
   "execution_count": 2,
   "metadata": {
    "scrolled": false
   },
   "outputs": [],
   "source": [
    "%matplotlib inline\n",
    "from scipy import signal\n",
    "from __future__ import print_function\n",
    "import numpy as np\n",
    "import sys \n",
    "import random\n",
    "from random import shuffle\n",
    "import matplotlib\n",
    "import matplotlib.pyplot as plt \n",
    "# from tqdm import tqdm \n",
    "matplotlib.rcParams['figure.figsize'] = [12, 9]"
   ]
  },
  {
   "cell_type": "code",
   "execution_count": 3,
   "metadata": {
    "collapsed": true
   },
   "outputs": [],
   "source": [
    "#Yeast Cell Class. This is treated as a group of cells at a location\n",
    "\n",
    "class yeast_cell:\n",
    "    def __init__(self, live=1, gen=0, leaf=0,location=(0,0), gluconD=0,plate=1,id=1):\n",
    "        self.location=location #coordinates (x,y)\n",
    "        self.gluconD=gluconD #dark/light state of the cell group.\n",
    "        self.FoodReserve=0.5 #internal resource levels in the cell group.\n",
    "        self.Amino = 0.5 #internal amino acid reserve\n",
    "        self.id=1 #cell group number\n"
   ]
  },
  {
   "cell_type": "code",
   "execution_count": 4,
   "metadata": {
    "collapsed": true
   },
   "outputs": [],
   "source": [
    "# Convolve with Resource grid for a diffusion constant of 0.24\n",
    "DiffMat = np.array([[0,0.24,0],\n",
    "                  [0.24,0.04,0.24],\n",
    "                  [0,0.24,0]])"
   ]
  },
  {
   "cell_type": "code",
   "execution_count": 5,
   "metadata": {
    "collapsed": true
   },
   "outputs": [],
   "source": [
    "#Returns the neighbourhood occupancy of an empty location on the grid. \n",
    "def FillProb(locn):\n",
    "    count=0\n",
    "    cx=locn[0]\n",
    "    cy=locn[1]\n",
    "    cell_neigh = [(max(0,cx-1),cy),(cx,min(cy+1,gridleny-1)),(min(cx+1,gridlenx-1),cy),(cx,max(0,cy-1))]\n",
    "    shuffle(cell_neigh)\n",
    "    for locn in cell_neigh:\n",
    "        if locn in LOC_STATE.keys(): \n",
    "            count+=1 #if a neighbourhood location is occupied, increase the counter\n",
    "    return count "
   ]
  },
  {
   "cell_type": "code",
   "execution_count": 6,
   "metadata": {
    "collapsed": true
   },
   "outputs": [],
   "source": [
    "TimeSteps = 100 #Give the system enough time to switch and grow"
   ]
  },
  {
   "cell_type": "code",
   "execution_count": 7,
   "metadata": {
    "collapsed": true
   },
   "outputs": [],
   "source": [
    "#MAIN PARAMETER MODELS AND INITIAL CONDITIONS\n",
    "#size of the grids\n",
    "gridlenx=251\n",
    "gridleny=251\n",
    "\n",
    "\n",
    "food=1.0 #minimum amount of of resource needed to be able to divide\n",
    "GlucInit=0.0 #units of glucose available at each grid location at t=0\n",
    "resource=GlucInit*np.ones(shape=(gridlenx,gridleny)) #resource grid at t=0\n",
    "\n",
    "DarkThresh = 0.3 # If external resource falls below this, light cells can turn dark\n",
    "dark_freq = 0.0 #probability to turn dark from light\n",
    "\n",
    "LightThresh = 3.0 # If external resource is higher than this, dark cells can turn light\n",
    "light_freq=0.5 #probability to turn light from dark\n",
    "\n",
    "\n",
    "Produced=0.07 #Resource produced by a dark cell per time step\n",
    "Consumed = 0.05 #Resource consumed by a light cell per time step (if available)\n",
    "DarkGrowth = 0.01 #growth rate of dark cells\n",
    "LightGrowth = 0.04 #growth rate of light cells"
   ]
  },
  {
   "cell_type": "code",
   "execution_count": 8,
   "metadata": {
    "collapsed": true
   },
   "outputs": [],
   "source": [
    "#Initial Variables the ones which we tend to keep track of\n",
    "GLUCON_FRAC=[] #fraction of dark cells in the colony\n",
    "POPU_TOTAL=[] #total cell population\n",
    "POPU_NUM=[] #tracks simply number of cells\n",
    "LOC=[] #all coordinates\n",
    "COLONY_GRID = np.zeros(shape=(gridlenx,gridleny)) #2D colony grid \n",
    "ColonyTime = np.zeros(shape=(TimeSteps+1,gridlenx,gridleny)) #store colony grid states over time\n",
    "GlucTime = np.zeros(shape=(TimeSteps+1,gridlenx,gridleny)) #store resource grid states over time\n",
    "LOC_STATE={} #At location (x,y) store the dark/light state of the cell. "
   ]
  },
  {
   "cell_type": "code",
   "execution_count": 9,
   "metadata": {
    "collapsed": true,
    "scrolled": false
   },
   "outputs": [],
   "source": [
    "#seed island with cells\n",
    "GLUCON_COUNTER=0 #gluconeogenic cells\n",
    "cx=int((len(resource[:-1])-1)/2)\n",
    "cy=cx \n",
    "cell_id=0\n",
    "island = []\n",
    "radius = 20\n",
    "for x in range(gridlenx):\n",
    "    for y in range(gridlenx):\n",
    "        if (np.sqrt((cx-x)**2+(cy-y)**2))<=radius:\n",
    "            island.append((x,y))\n",
    "# the above loop selects an island of the user set radius to seed our colony\n",
    "\n",
    "#seeding the colony\n",
    "for locn in island:\n",
    "    glucons = random.sample(set(island),int(0.99*len(island))) #choose 99% dark cells\n",
    "    yseed=yeast_cell()\n",
    "    yseed.id=cell_id\n",
    "    cell_id+=1\n",
    "    yseed.location=(locn[0],locn[1])\n",
    "    LOC_STATE[locn] = 0 # 0 is light\n",
    "    ColonyTime[0][locn]=1\n",
    "    POPU_TOTAL.append(yseed)\n",
    "    LOC.append(yseed.location)\n",
    "    \n",
    "    if locn in glucons:\n",
    "        yseed.gluconD=1\n",
    "        LOC_STATE[locn] = 1 # 1 is gluconeogenic\n",
    "        ColonyTime[0][locn]=2\n",
    "        GLUCON_COUNTER += 1\n",
    "\n",
    "POPU_NUM.append(len(POPU_TOTAL))\n",
    "\n",
    "for time_iters in range(TimeSteps+1): #Number of fixed width time steps\n",
    "    resource = signal.convolve2d(resource,DiffMat,boundary='symm', mode='same') #implement diffusion on the resource grid\n",
    "    GlucTime[time_iters] = resource\n",
    "    ColonyTime[time_iters] = ColonyTime[max(0,time_iters-1)]\n",
    "    \n",
    "    nextgen=[] # initialise new generation cells\n",
    "    for a_cell in POPU_TOTAL: #sweep over the whole colony\n",
    "        cx=a_cell.location[0]\n",
    "        cy=a_cell.location[1]\n",
    "        cell_neigh = [(max(0,cx-1),cy),(cx,min(cy+1,gridleny-1)),(min(cx+1,gridlenx-1),cy),(cx,max(0,cy-1))] # '+' shaped neighbourhood\n",
    "\n",
    "        #Dark (Gluconeogenic) cell\n",
    "        if a_cell.gluconD == 1: #check if the cell is dark\n",
    "            if random.random() <= light_freq and resource[cx,cy] >= LightThresh:\n",
    "                a_cell.gluconD=0 # turn light\n",
    "                LOC_STATE[(cx,cy)] = 0 #switch to light state\n",
    "                ColonyTime[time_iters][(cx,cy)] = 1 \n",
    "                GLUCON_COUNTER -= 1\n",
    " \n",
    "            else:\n",
    "                resource[cx,cy]=resource[cx,cy]+Produced #produce resource at location\n",
    "                a_cell.Amino += Consumed #internalise some amino acids\n",
    "                if random.random()<=DarkGrowth and a_cell.Amino >= food : #dividing dark cell group\n",
    "                    empty_spot=[] # find an empty space to divide into\n",
    "                    SpotScore = [] #To find which empty space is surrounded by more occupied spots\n",
    "                    for locn in cell_neigh:\n",
    "                        if locn not in LOC:\n",
    "                            empty_spot.append(locn)\n",
    "                            SpotScore.append(FillProb(locn))\n",
    "\n",
    "                    if len(empty_spot)>0:\n",
    "                        (newglux,newgluy)=empty_spot[SpotScore.index(max(SpotScore))] #divide in the empty spot with the most occupied neighbourhood\n",
    "                        newcell=yeast_cell() #new cell with properties follows\n",
    "                        newcell.Amino = a_cell.Amino/2.0\n",
    "                        a_cell.Amino = a_cell.Amino/2.0 \n",
    "                        newcell.id=cell_id\n",
    "                        newcell.gluconD = 1\n",
    "                        cell_id+=1\n",
    "                        nextgen.append(newcell)\n",
    "                        newcell.location=(newglux,newgluy)\n",
    "                        LOC.append(newcell.location)\n",
    "                        LOC_STATE[(newglux,newgluy)] = 1\n",
    "                        ColonyTime[time_iters][(newglux,newgluy)] = 2\n",
    "                        GLUCON_COUNTER+=1\n",
    "\n",
    "        # Light cell\n",
    "        elif a_cell.gluconD == 0:\n",
    "            if random.random()<=dark_freq and resource[cx,cy] < DarkThresh:\n",
    "                a_cell.gluconD=1 #become gluconeogenic if you can\n",
    "                LOC_STATE[a_cell.location] = 1\n",
    "                ColonyTime[time_iters][(cx,cy)]=2\n",
    "                GLUCON_COUNTER+=1\n",
    "     \n",
    "            if a_cell.gluconD == 0:\n",
    "                if resource[cx,cy] >=Consumed: #minimum amount which should be present at the cell group's location\n",
    "                    resource[cx,cy]=max(0,resource[cx,cy]-Consumed)\n",
    "                    a_cell.FoodReserve += Consumed #build internal reserve of resource for division\n",
    "                    \n",
    "                if a_cell.FoodReserve >= food and random.random() <=LightGrowth:\n",
    "                    empty_spot=[] # find an empty space to divide into\n",
    "                    SpotScore=[]\n",
    "                    for locn in cell_neigh:\n",
    "                        if locn not in LOC:\n",
    "                            empty_spot.append(locn)\n",
    "                            SpotScore.append(FillProb(locn))\n",
    "                    if len(empty_spot)>0:\n",
    "                        (newx,newy)=empty_spot[SpotScore.index(max(SpotScore))]\n",
    "                        newcell=yeast_cell()\n",
    "                        newcell.id=cell_id\n",
    "                        cell_id+=1\n",
    "                        newcell.FoodReserve = a_cell.FoodReserve/2.0\n",
    "                        nextgen.append(newcell)\n",
    "                        newcell.location=(newx,newy)\n",
    "                        LOC_STATE[(newx,newy)] = 0\n",
    "                        ColonyTime[time_iters][(newx,newy)] = 1\n",
    "                        LOC.append(newcell.location)\n",
    "                        a_cell.FoodReserve = a_cell.FoodReserve/2.0\n",
    "\n",
    "                \n",
    "    POPU_TOTAL=POPU_TOTAL+nextgen #update population by adding new generation\n",
    "    POPU_NUM.append(len(POPU_TOTAL))\n",
    "    GLUCON_FRAC.append(float(GLUCON_COUNTER)/len(POPU_TOTAL))\n",
    "\n",
    "\n",
    "savefilename = 'Colony.npy'\n",
    "np.save(savefilename,ColonyTime)\n",
    "\n",
    "np.save('Resource',GlucTime)\n"
   ]
  },
  {
   "cell_type": "code",
   "execution_count": 10,
   "metadata": {
    "scrolled": false
   },
   "outputs": [
    {
     "data": {
      "image/png": "[encoded data removed]",
      "text/plain": [
       "<matplotlib.figure.Figure at 0x7f98dc62cdd8>"
      ]
     },
     "metadata": {},
     "output_type": "display_data"
    }
   ],
   "source": [
    "GLYCFRAC = [1.0 - a for a in GLUCON_FRAC ]\n",
    "plt.figure()\n",
    "plt.subplot(2,1,1).plot(POPU_NUM) #total population over time\n",
    "plt.grid(True)\n",
    "plt.subplot(2,1,2).plot(GLUCON_FRAC) #dark cell fraction\n",
    "plt.subplot(2,1,2).plot(GLYCFRAC) #light cell fraction\n",
    "plt.grid(True)"
   ]
  }
 ],
 "metadata": {
  "kernelspec": {
   "display_name": "Python 3",
   "language": "python",
   "name": "python3"
  },
  "language_info": {
   "codemirror_mode": {
    "name": "ipython",
    "version": 3
   },
   "file_extension": ".py",
   "mimetype": "text/x-python",
   "name": "python",
   "nbconvert_exporter": "python",
   "pygments_lexer": "ipython3",
   "version": "3.6.1"
  }
 },
 "nbformat": 4,
 "nbformat_minor": 2
}
